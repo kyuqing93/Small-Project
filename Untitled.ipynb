{
 "cells": [
  {
   "cell_type": "code",
   "execution_count": 19,
   "metadata": {},
   "outputs": [
    {
     "name": "stdout",
     "output_type": "stream",
     "text": [
      "pd_data.head(10)=\n",
      "   GRP  INDIV  LRG-GRP  Other  AFSaleWM\n",
      "0   84     54       16      1   1244.75\n",
      "1   65     35       23      5   2065.26\n",
      "2   60     28       10      1   2150.01\n",
      "3   52     44       20      3   4656.02\n",
      "4   17     19       10      5   7257.45\n",
      "5  104    153       19      9   7586.23\n",
      "6   67     53       31      1   8044.32\n",
      "7  137     62       45     10  14526.28\n",
      "8  110     31       32      2  15304.35\n",
      "9  152     79       27      8  15498.78\n"
     ]
    }
   ],
   "source": [
    "import pandas as pd\n",
    "import seaborn as sns\n",
    "import matplotlib.pyplot as plt\n",
    "import matplotlib as mpl   #显示中文\n",
    "\n",
    "pd_data=pd.read_excel('回归.xlsx')\n",
    "print('pd_data.head(10)=\\n{}'.format(pd_data.head(10)))"
   ]
  },
  {
   "cell_type": "code",
   "execution_count": 15,
   "metadata": {},
   "outputs": [],
   "source": [
    "from sklearn.model_selection import train_test_split #这里是引用了交叉验证\n",
    "from sklearn.linear_model import LinearRegression  #线性回归\n",
    "from sklearn import metrics\n",
    "import numpy as np\n",
    "import matplotlib.pyplot as plt\n"
   ]
  },
  {
   "cell_type": "markdown",
   "metadata": {},
   "source": [
    "X=pd_data.loc[:,('INDIV','GRP','LRG-GRP','Other')]\n",
    "y=pd_data.loc[:,'AFSaleWM']\n",
    "X_train,X_test, y_train, y_test = train_test_split(X,y,test_size = 0.2,random_state=100)\n",
    "print ('X_train.shape={}\\n y_train.shape ={}\\n X_test.shape={}\\n,  y_test.shape={}'.format(X_train.shape,y_train.shape, X_test.shape,y_test.shape))\n",
    "linreg = LinearRegression()\n",
    "model=linreg.fit(X_train, y_train)\n",
    "print (model)\n",
    "    # 训练后模型截距\n",
    "print (linreg.intercept_)\n",
    "    # 训练后模型权重（特征个数无变化）\n",
    "print (linreg.coef_)\n"
   ]
  },
  {
   "cell_type": "code",
   "execution_count": 18,
   "metadata": {},
   "outputs": [
    {
     "name": "stdout",
     "output_type": "stream",
     "text": [
      "[('INDIV', 481.50349108931664), ('GRP', -128.01493155687342), ('LRG-GRP', 315.18080221417176), ('Other', 1400.1754120733135)]\n"
     ]
    }
   ],
   "source": [
    "feature_cols = ['INDIV','GRP','LRG-GRP','Other','AFWM']\n",
    "B=list(zip(feature_cols,linreg.coef_))\n",
    "print(B)"
   ]
  }
 ],
 "metadata": {
  "kernelspec": {
   "display_name": "Python 3",
   "language": "python",
   "name": "python3"
  },
  "language_info": {
   "codemirror_mode": {
    "name": "ipython",
    "version": 3
   },
   "file_extension": ".py",
   "mimetype": "text/x-python",
   "name": "python",
   "nbconvert_exporter": "python",
   "pygments_lexer": "ipython3",
   "version": "3.7.6"
  }
 },
 "nbformat": 4,
 "nbformat_minor": 4
}
