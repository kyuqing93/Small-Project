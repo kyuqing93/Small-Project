{
 "cells": [
  {
   "cell_type": "code",
   "execution_count": 1,
   "id": "38b87d06",
   "metadata": {},
   "outputs": [],
   "source": [
    "import pandas as pd\n",
    "import seaborn as sns\n",
    "import matplotlib.pyplot as plt\n",
    "import matplotlib as mpl"
   ]
  },
  {
   "cell_type": "code",
   "execution_count": 2,
   "id": "ebeea3f4",
   "metadata": {},
   "outputs": [],
   "source": [
    "pd_data=pd.read_excel('Visits and Sales.xlsx')"
   ]
  },
  {
   "cell_type": "code",
   "execution_count": 4,
   "id": "4115c067",
   "metadata": {},
   "outputs": [
    {
     "data": {
      "text/html": [
       "<div>\n",
       "<style scoped>\n",
       "    .dataframe tbody tr th:only-of-type {\n",
       "        vertical-align: middle;\n",
       "    }\n",
       "\n",
       "    .dataframe tbody tr th {\n",
       "        vertical-align: top;\n",
       "    }\n",
       "\n",
       "    .dataframe thead th {\n",
       "        text-align: right;\n",
       "    }\n",
       "</style>\n",
       "<table border=\"1\" class=\"dataframe\">\n",
       "  <thead>\n",
       "    <tr style=\"text-align: right;\">\n",
       "      <th></th>\n",
       "      <th>GRP</th>\n",
       "      <th>INDIV</th>\n",
       "      <th>LRG-GRP</th>\n",
       "      <th>Other</th>\n",
       "      <th>Visits</th>\n",
       "      <th>AFSaleWM</th>\n",
       "    </tr>\n",
       "  </thead>\n",
       "  <tbody>\n",
       "    <tr>\n",
       "      <th>0</th>\n",
       "      <td>84</td>\n",
       "      <td>54</td>\n",
       "      <td>16</td>\n",
       "      <td>1.0</td>\n",
       "      <td>155</td>\n",
       "      <td>1244.75</td>\n",
       "    </tr>\n",
       "    <tr>\n",
       "      <th>1</th>\n",
       "      <td>65</td>\n",
       "      <td>35</td>\n",
       "      <td>23</td>\n",
       "      <td>5.0</td>\n",
       "      <td>128</td>\n",
       "      <td>2065.26</td>\n",
       "    </tr>\n",
       "    <tr>\n",
       "      <th>2</th>\n",
       "      <td>60</td>\n",
       "      <td>28</td>\n",
       "      <td>10</td>\n",
       "      <td>1.0</td>\n",
       "      <td>99</td>\n",
       "      <td>2150.01</td>\n",
       "    </tr>\n",
       "    <tr>\n",
       "      <th>3</th>\n",
       "      <td>52</td>\n",
       "      <td>44</td>\n",
       "      <td>20</td>\n",
       "      <td>3.0</td>\n",
       "      <td>119</td>\n",
       "      <td>4656.02</td>\n",
       "    </tr>\n",
       "    <tr>\n",
       "      <th>4</th>\n",
       "      <td>17</td>\n",
       "      <td>19</td>\n",
       "      <td>10</td>\n",
       "      <td>5.0</td>\n",
       "      <td>51</td>\n",
       "      <td>7257.45</td>\n",
       "    </tr>\n",
       "  </tbody>\n",
       "</table>\n",
       "</div>"
      ],
      "text/plain": [
       "   GRP  INDIV  LRG-GRP  Other  Visits  AFSaleWM\n",
       "0   84     54       16    1.0     155   1244.75\n",
       "1   65     35       23    5.0     128   2065.26\n",
       "2   60     28       10    1.0      99   2150.01\n",
       "3   52     44       20    3.0     119   4656.02\n",
       "4   17     19       10    5.0      51   7257.45"
      ]
     },
     "execution_count": 4,
     "metadata": {},
     "output_type": "execute_result"
    }
   ],
   "source": [
    "pd_data.head()"
   ]
  },
  {
   "cell_type": "code",
   "execution_count": 14,
   "id": "3747af4b",
   "metadata": {},
   "outputs": [
    {
     "data": {
      "text/plain": [
       "['Other']"
      ]
     },
     "execution_count": 14,
     "metadata": {},
     "output_type": "execute_result"
    }
   ],
   "source": [
    "pd_data.columns[pd_data.isnull().any()].tolist()"
   ]
  },
  {
   "cell_type": "code",
   "execution_count": 15,
   "id": "ea367230",
   "metadata": {},
   "outputs": [],
   "source": [
    "pd_data['Other']=pd_data['Other'].fillna(0)"
   ]
  },
  {
   "cell_type": "code",
   "execution_count": 16,
   "id": "8dd9d843",
   "metadata": {},
   "outputs": [
    {
     "data": {
      "text/plain": [
       "False"
      ]
     },
     "execution_count": 16,
     "metadata": {},
     "output_type": "execute_result"
    }
   ],
   "source": [
    "pd_data.isnull().values.any()"
   ]
  },
  {
   "cell_type": "code",
   "execution_count": 40,
   "id": "754324bd",
   "metadata": {},
   "outputs": [],
   "source": [
    "S=pd_data.drop(['AFSaleWM','Visits','index'], axis=1).apply(lambda x: x.corr(pd_data.AFSaleWM))"
   ]
  },
  {
   "cell_type": "code",
   "execution_count": 41,
   "id": "1ee2a1d0",
   "metadata": {},
   "outputs": [
    {
     "data": {
      "text/plain": [
       "LRG-GRP    0.291494\n",
       "Other      0.280644\n",
       "INDIV      0.232802\n",
       "GRP        0.033182\n",
       "dtype: float64"
      ]
     },
     "execution_count": 41,
     "metadata": {},
     "output_type": "execute_result"
    }
   ],
   "source": [
    "S[S.abs().sort_values(ascending=False).index]"
   ]
  },
  {
   "cell_type": "code",
   "execution_count": 42,
   "id": "791d15f2",
   "metadata": {},
   "outputs": [],
   "source": [
    "from sklearn.model_selection import train_test_split \n",
    "from sklearn.linear_model import LinearRegression  \n",
    "from sklearn import metrics\n",
    "import numpy as np\n",
    "import matplotlib.pyplot as plt"
   ]
  },
  {
   "cell_type": "code",
   "execution_count": 33,
   "id": "6cd48e51",
   "metadata": {},
   "outputs": [],
   "source": [
    "X=pd_data.loc[:,('INDIV','GRP','LRG-GRP','Other')] \n",
    "y=pd_data.loc[:,'AFSaleWM'] \n",
    "X_train,X_test, y_train, y_test = train_test_split(X,y,test_size = 0.2,random_state=100)"
   ]
  },
  {
   "cell_type": "code",
   "execution_count": 34,
   "id": "0be6d115",
   "metadata": {},
   "outputs": [
    {
     "name": "stdout",
     "output_type": "stream",
     "text": [
      "LinearRegression()\n"
     ]
    }
   ],
   "source": [
    "linreg = LinearRegression()\n",
    "model=linreg.fit(X_train, y_train)\n",
    "print (model)"
   ]
  },
  {
   "cell_type": "code",
   "execution_count": 35,
   "id": "3b41a849",
   "metadata": {},
   "outputs": [
    {
     "name": "stdout",
     "output_type": "stream",
     "text": [
      "16738.234224613276\n"
     ]
    }
   ],
   "source": [
    "print (linreg.intercept_)"
   ]
  },
  {
   "cell_type": "code",
   "execution_count": 36,
   "id": "ad02285b",
   "metadata": {},
   "outputs": [
    {
     "name": "stdout",
     "output_type": "stream",
     "text": [
      "[ 481.50349109 -128.01493156  315.18080221 1400.17541207]\n"
     ]
    }
   ],
   "source": [
    "print (linreg.coef_)"
   ]
  },
  {
   "cell_type": "code",
   "execution_count": 37,
   "id": "e9882984",
   "metadata": {},
   "outputs": [
    {
     "name": "stdout",
     "output_type": "stream",
     "text": [
      "[('INDIV', 481.5034910893165), ('GRP', -128.01493155687345), ('LRG-GRP', 315.1808022141719), ('Other', 1400.1754120733133)]\n"
     ]
    }
   ],
   "source": [
    "feature_cols = ['INDIV','GRP','LRG-GRP','Other']\n",
    "B=list(zip(feature_cols,linreg.coef_))\n",
    "print(B)"
   ]
  },
  {
   "cell_type": "code",
   "execution_count": null,
   "id": "9a892895",
   "metadata": {},
   "outputs": [],
   "source": []
  }
 ],
 "metadata": {
  "kernelspec": {
   "display_name": "Python 3",
   "language": "python",
   "name": "python3"
  },
  "language_info": {
   "codemirror_mode": {
    "name": "ipython",
    "version": 3
   },
   "file_extension": ".py",
   "mimetype": "text/x-python",
   "name": "python",
   "nbconvert_exporter": "python",
   "pygments_lexer": "ipython3",
   "version": "3.8.8"
  }
 },
 "nbformat": 4,
 "nbformat_minor": 5
}
